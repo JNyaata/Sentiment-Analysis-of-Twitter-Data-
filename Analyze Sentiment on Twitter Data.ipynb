{
 "cells": [
  {
   "cell_type": "markdown",
   "metadata": {},
   "source": [
    "# Analyze The Sentiment of Tweets From Twitter Data and Tweepy in Python"
   ]
  },
  {
   "cell_type": "markdown",
   "metadata": {},
   "source": [
    "**Learning Objectives**\n",
    "\n",
    "**After completing this tutorial, you will be able to:**\n",
    "\n",
    "1. Explain how text data can be analyzed to identify sentiments (i.e. attitudes) toward a particular subject.\n",
    "2. Analyze sentiments in tweets"
   ]
  },
  {
   "cell_type": "markdown",
   "metadata": {},
   "source": [
    "# Sentiment Analysis\n",
    "\n",
    "Sentiment analysis is a method of identifying attitudes in text data about a subject of interest. It is scored using polarity values that range from 1 to -1. Values closer to 1 indicate more positivity, while values closer to -1 indicate more negativity.\n",
    "\n",
    "In this lesson, you will apply sentiment analysis to Twitter data using the Python package **textblob.** You will calculate a polarity value for each tweet on a given subject and then plot these values in a histogram to identify the overall sentiment toward the subject of interest."
   ]
  },
  {
   "cell_type": "markdown",
   "metadata": {},
   "source": [
    "**Get and Clean Tweets Related to Climate**\n",
    "\n",
    "Begin by reviewing how to search for and clean tweets that you will use to analyze sentiments in Twitter data."
   ]
  },
  {
   "cell_type": "code",
   "execution_count": 11,
   "metadata": {},
   "outputs": [],
   "source": [
    "import os\n",
    "import pandas as pd\n",
    "import matplotlib.pyplot as plt\n",
    "import seaborn as sns\n",
    "import itertools\n",
    "import collections\n",
    "\n",
    "import tweepy as tw\n",
    "import nltk\n",
    "from nltk.corpus import stopwords\n",
    "import re\n",
    "import networkx\n",
    "from textblob import TextBlob\n",
    "\n",
    "import warnings\n",
    "warnings.filterwarnings('ignore')\n",
    "\n",
    "sns.set(font_scale=1.5)\n",
    "sns.set_style('whitegrid')"
   ]
  },
  {
   "cell_type": "markdown",
   "metadata": {},
   "source": [
    "Remember to define your keys:"
   ]
  },
  {
   "cell_type": "code",
   "execution_count": 12,
   "metadata": {},
   "outputs": [],
   "source": [
    "consumer_key = \"Edp8l71sifu---------\"\n",
    "consumer_secret = \"N7B4TJMMa6uRfVAMtkALVBX--------------\"\n",
    "access_token = \"1245761650126356481-aelRrwD3c----------------\"\n",
    "access_token_secret = \"CWK2yk2kbYYdWL1ivYCFR-----------------------\""
   ]
  },
  {
   "cell_type": "code",
   "execution_count": 13,
   "metadata": {},
   "outputs": [],
   "source": [
    "auth = tw.OAuthHandler(consumer_key, consumer_secret)\n",
    "auth.set_access_token(access_token, access_token_secret)\n",
    "api = tw.API(auth, wait_on_rate_limit=True)"
   ]
  },
  {
   "cell_type": "markdown",
   "metadata": {},
   "source": [
    "Grab and clean up 1000 recent tweets. For this analysis, you only need to remove URLs from the tweets."
   ]
  },
  {
   "cell_type": "code",
   "execution_count": 34,
   "metadata": {},
   "outputs": [],
   "source": [
    "def remove_url(txt):\n",
    "    \"\"\"Replace URLs found in a text string with nothing \n",
    "    (i.e. it will remove the URL from the string).\n",
    "\n",
    "    Parameters\n",
    "    ----------\n",
    "    txt : string\n",
    "        A text string that you want to parse and remove urls.\n",
    "\n",
    "    Returns\n",
    "    -------\n",
    "    The same txt string with url's removed.\n",
    "    \"\"\"\n",
    "\n",
    "    return \" \".join(re.sub(\"([^0-9A-Za-z \\t])|(\\w+:\\/\\/\\S+)\", \"\", txt).split())"
   ]
  },
  {
   "cell_type": "code",
   "execution_count": 15,
   "metadata": {},
   "outputs": [],
   "source": [
    "# Create a custom search term and define the number of tweets\n",
    "search_term = \"#covid19+pandemic -filter:retweets\"\n",
    "\n",
    "tweets = tw.Cursor(api.search,\n",
    "                   q=search_term,\n",
    "                   lang=\"en\",\n",
    "                   since='2018-11-01').items(1000)\n",
    "\n"
   ]
  },
  {
   "cell_type": "code",
   "execution_count": 16,
   "metadata": {},
   "outputs": [],
   "source": [
    "# Remove URLs\n",
    "tweets_no_urls = [remove_url(tweet.text) for tweet in tweets]"
   ]
  },
  {
   "cell_type": "markdown",
   "metadata": {},
   "source": [
    "**Analyze Sentiments in Tweets**\n",
    "\n",
    "You can use the Python package textblob to calculate the polarity values of individual tweets on climate change.\n",
    "\n",
    "Begin by creating textblob objects, which assigns polarity values to the tweets. You can identify the polarity value using the attribute .polarity of texblob object."
   ]
  },
  {
   "cell_type": "code",
   "execution_count": 17,
   "metadata": {},
   "outputs": [],
   "source": [
    "# Create textblob objects of the tweets\n",
    "sentiment_objects = [TextBlob(tweet) for tweet in tweets_no_urls]\n"
   ]
  },
  {
   "cell_type": "code",
   "execution_count": 18,
   "metadata": {},
   "outputs": [
    {
     "data": {
      "text/plain": [
       "(0.0,\n",
       " TextBlob(\"16 Health Workers Talk About Their Battles With the Pandemic pandemic COVID19 Covid19UK\"))"
      ]
     },
     "execution_count": 18,
     "metadata": {},
     "output_type": "execute_result"
    }
   ],
   "source": [
    "sentiment_objects[0].polarity, sentiment_objects[0]"
   ]
  },
  {
   "cell_type": "markdown",
   "metadata": {},
   "source": [
    "You can apply list comprehension to create a list of the polarity values and text for each tweet, and then create a **Pandas Dataframe** from the list."
   ]
  },
  {
   "cell_type": "code",
   "execution_count": 20,
   "metadata": {},
   "outputs": [
    {
     "data": {
      "text/plain": [
       "[0.0,\n",
       " '16 Health Workers Talk About Their Battles With the Pandemic pandemic COVID19 Covid19UK']"
      ]
     },
     "execution_count": 20,
     "metadata": {},
     "output_type": "execute_result"
    }
   ],
   "source": [
    "# Create list of polarity valuesx and tweet text\n",
    "sentiment_values = [[tweet.sentiment.polarity, str(tweet)] for tweet in sentiment_objects]\n",
    "sentiment_values[0]"
   ]
  },
  {
   "cell_type": "code",
   "execution_count": 25,
   "metadata": {},
   "outputs": [
    {
     "data": {
      "text/html": [
       "<div>\n",
       "<style scoped>\n",
       "    .dataframe tbody tr th:only-of-type {\n",
       "        vertical-align: middle;\n",
       "    }\n",
       "\n",
       "    .dataframe tbody tr th {\n",
       "        vertical-align: top;\n",
       "    }\n",
       "\n",
       "    .dataframe thead th {\n",
       "        text-align: right;\n",
       "    }\n",
       "</style>\n",
       "<table border=\"1\" class=\"dataframe\">\n",
       "  <thead>\n",
       "    <tr style=\"text-align: right;\">\n",
       "      <th></th>\n",
       "      <th>polarity</th>\n",
       "      <th>tweet</th>\n",
       "    </tr>\n",
       "  </thead>\n",
       "  <tbody>\n",
       "    <tr>\n",
       "      <th>0</th>\n",
       "      <td>0.000000</td>\n",
       "      <td>16 Health Workers Talk About Their Battles Wit...</td>\n",
       "    </tr>\n",
       "    <tr>\n",
       "      <th>1</th>\n",
       "      <td>0.000000</td>\n",
       "      <td>Here is what our employees say about Ged Lawye...</td>\n",
       "    </tr>\n",
       "    <tr>\n",
       "      <th>2</th>\n",
       "      <td>-0.400000</td>\n",
       "      <td>Tips for game devs in the era of COVID19eg If ...</td>\n",
       "    </tr>\n",
       "    <tr>\n",
       "      <th>3</th>\n",
       "      <td>0.136364</td>\n",
       "      <td>COVID19 New York saw the fewest new daytoday C...</td>\n",
       "    </tr>\n",
       "    <tr>\n",
       "      <th>4</th>\n",
       "      <td>0.000000</td>\n",
       "      <td>Teaching during COVID19 Why Were FortunateIf t...</td>\n",
       "    </tr>\n",
       "    <tr>\n",
       "      <th>5</th>\n",
       "      <td>0.000000</td>\n",
       "      <td>Were looking at retirement savings as a rainyd...</td>\n",
       "    </tr>\n",
       "    <tr>\n",
       "      <th>6</th>\n",
       "      <td>-0.500000</td>\n",
       "      <td>ON AIR COVID19 Ethiopian President SahleWorkZe...</td>\n",
       "    </tr>\n",
       "    <tr>\n",
       "      <th>7</th>\n",
       "      <td>0.000000</td>\n",
       "      <td>With the ongoing COVID19 Pandemic amp the rece...</td>\n",
       "    </tr>\n",
       "    <tr>\n",
       "      <th>8</th>\n",
       "      <td>0.800000</td>\n",
       "      <td>This is a great innovation that can help fight...</td>\n",
       "    </tr>\n",
       "    <tr>\n",
       "      <th>9</th>\n",
       "      <td>0.100000</td>\n",
       "      <td>Bangladesh has battled the twin perils of Amph...</td>\n",
       "    </tr>\n",
       "    <tr>\n",
       "      <th>10</th>\n",
       "      <td>0.150000</td>\n",
       "      <td>Slavery kefala and suicide Plight of migrant m...</td>\n",
       "    </tr>\n",
       "    <tr>\n",
       "      <th>11</th>\n",
       "      <td>0.400000</td>\n",
       "      <td>HigherEd InfoSec During the Pandemic COVID19 Q...</td>\n",
       "    </tr>\n",
       "    <tr>\n",
       "      <th>12</th>\n",
       "      <td>0.125000</td>\n",
       "      <td>At the start of the pandemic a small SF Bay Ar...</td>\n",
       "    </tr>\n",
       "    <tr>\n",
       "      <th>13</th>\n",
       "      <td>0.045833</td>\n",
       "      <td>Small Business Strong is a private amp public ...</td>\n",
       "    </tr>\n",
       "    <tr>\n",
       "      <th>14</th>\n",
       "      <td>0.008333</td>\n",
       "      <td>Have tremendous respect for Sweden for admitti...</td>\n",
       "    </tr>\n",
       "    <tr>\n",
       "      <th>15</th>\n",
       "      <td>0.000000</td>\n",
       "      <td>The way we approach recovery from the COVID19 ...</td>\n",
       "    </tr>\n",
       "    <tr>\n",
       "      <th>16</th>\n",
       "      <td>0.175556</td>\n",
       "      <td>Wisconsin spuds had a shaky start to the COVID...</td>\n",
       "    </tr>\n",
       "    <tr>\n",
       "      <th>17</th>\n",
       "      <td>0.214286</td>\n",
       "      <td>Australia tops the world by a large margin in ...</td>\n",
       "    </tr>\n",
       "    <tr>\n",
       "      <th>18</th>\n",
       "      <td>0.357143</td>\n",
       "      <td>If you can organize these large protests riots...</td>\n",
       "    </tr>\n",
       "    <tr>\n",
       "      <th>19</th>\n",
       "      <td>0.000000</td>\n",
       "      <td>This is a podcast you must listen to in its en...</td>\n",
       "    </tr>\n",
       "    <tr>\n",
       "      <th>20</th>\n",
       "      <td>0.500000</td>\n",
       "      <td>COVID19 has caused more businesses to accelera...</td>\n",
       "    </tr>\n",
       "    <tr>\n",
       "      <th>21</th>\n",
       "      <td>-0.562500</td>\n",
       "      <td>Things are looking really grim due to the ongo...</td>\n",
       "    </tr>\n",
       "    <tr>\n",
       "      <th>22</th>\n",
       "      <td>0.161905</td>\n",
       "      <td>COVID19 has put our economic future at risk an...</td>\n",
       "    </tr>\n",
       "    <tr>\n",
       "      <th>23</th>\n",
       "      <td>0.000000</td>\n",
       "      <td>The Final Report was presented to Prime Minist...</td>\n",
       "    </tr>\n",
       "    <tr>\n",
       "      <th>24</th>\n",
       "      <td>-0.202778</td>\n",
       "      <td>SteveHiltonx 380K deaths of the ORDINARY FLU J...</td>\n",
       "    </tr>\n",
       "  </tbody>\n",
       "</table>\n",
       "</div>"
      ],
      "text/plain": [
       "    polarity                                              tweet\n",
       "0   0.000000  16 Health Workers Talk About Their Battles Wit...\n",
       "1   0.000000  Here is what our employees say about Ged Lawye...\n",
       "2  -0.400000  Tips for game devs in the era of COVID19eg If ...\n",
       "3   0.136364  COVID19 New York saw the fewest new daytoday C...\n",
       "4   0.000000  Teaching during COVID19 Why Were FortunateIf t...\n",
       "5   0.000000  Were looking at retirement savings as a rainyd...\n",
       "6  -0.500000  ON AIR COVID19 Ethiopian President SahleWorkZe...\n",
       "7   0.000000  With the ongoing COVID19 Pandemic amp the rece...\n",
       "8   0.800000  This is a great innovation that can help fight...\n",
       "9   0.100000  Bangladesh has battled the twin perils of Amph...\n",
       "10  0.150000  Slavery kefala and suicide Plight of migrant m...\n",
       "11  0.400000  HigherEd InfoSec During the Pandemic COVID19 Q...\n",
       "12  0.125000  At the start of the pandemic a small SF Bay Ar...\n",
       "13  0.045833  Small Business Strong is a private amp public ...\n",
       "14  0.008333  Have tremendous respect for Sweden for admitti...\n",
       "15  0.000000  The way we approach recovery from the COVID19 ...\n",
       "16  0.175556  Wisconsin spuds had a shaky start to the COVID...\n",
       "17  0.214286  Australia tops the world by a large margin in ...\n",
       "18  0.357143  If you can organize these large protests riots...\n",
       "19  0.000000  This is a podcast you must listen to in its en...\n",
       "20  0.500000  COVID19 has caused more businesses to accelera...\n",
       "21 -0.562500  Things are looking really grim due to the ongo...\n",
       "22  0.161905  COVID19 has put our economic future at risk an...\n",
       "23  0.000000  The Final Report was presented to Prime Minist...\n",
       "24 -0.202778  SteveHiltonx 380K deaths of the ORDINARY FLU J..."
      ]
     },
     "execution_count": 25,
     "metadata": {},
     "output_type": "execute_result"
    }
   ],
   "source": [
    "# Create dataframe containing the polarity value and tweet text\n",
    "sentiment_df = pd.DataFrame(sentiment_values, columns=[\"polarity\", \"tweet\"])\n",
    "\n",
    "sentiment_df.head(25)"
   ]
  },
  {
   "cell_type": "markdown",
   "metadata": {},
   "source": [
    "These polarity values can be plotted in a histogram, which can help to highlight in the overall sentiment (i.e. more positivity or negativity) toward the subject."
   ]
  },
  {
   "cell_type": "code",
   "execution_count": 27,
   "metadata": {},
   "outputs": [
    {
     "data": {
      "text/plain": [
       "Text(0.5, 1.0, 'Sentiment from Tweets on Climate Change')"
      ]
     },
     "execution_count": 27,
     "metadata": {},
     "output_type": "execute_result"
    },
    {
     "data": {
      "image/png": "[encoded data removed]",
      "text/plain": [
       "<Figure size 576x432 with 1 Axes>"
      ]
     },
     "metadata": {},
     "output_type": "display_data"
    }
   ],
   "source": [
    "fig, ax = plt.subplots(figsize=(8, 6))\n",
    "\n",
    "#Plot histogram of the polarity values\n",
    "sentiment_df.hist(bins=[-1, -0.75, -0.5,-0.25,0.5,0.75,1],\n",
    "                 ax=ax,\n",
    "                 color=\"purple\")\n",
    "plt.title(\"Sentiment from Tweets on Climate Change\")"
   ]
  },
  {
   "cell_type": "markdown",
   "metadata": {},
   "source": [
    "This plot displays a histogram of polarity values for tweets on climate change."
   ]
  },
  {
   "cell_type": "markdown",
   "metadata": {},
   "source": [
    "To get a better visual of the polarity values, it can be helpful to remove the polarity values equal to zero and create a break in the histogram at zero."
   ]
  },
  {
   "cell_type": "code",
   "execution_count": 28,
   "metadata": {},
   "outputs": [],
   "source": [
    "# Remove polarity values equal to zero\n",
    "sentiment_df = sentiment_df[sentiment_df.polarity != 0]"
   ]
  },
  {
   "cell_type": "code",
   "execution_count": 29,
   "metadata": {},
   "outputs": [
    {
     "data": {
      "text/plain": [
       "Text(0.5, 1.0, 'Sentiments from Tweets on Climate Change')"
      ]
     },
     "execution_count": 29,
     "metadata": {},
     "output_type": "execute_result"
    },
    {
     "data": {
      "image/png": "[encoded data removed]",
      "text/plain": [
       "<Figure size 576x432 with 1 Axes>"
      ]
     },
     "metadata": {},
     "output_type": "display_data"
    }
   ],
   "source": [
    "fig, ax = plt.subplots(figsize=(8, 6))\n",
    "\n",
    "# Plot histogram with break at zero\n",
    "sentiment_df.hist(bins=[-1, -0.75, -0.5, -0.25, 0.0, 0.25, 0.5, 0.75, 1],\n",
    "             ax=ax,\n",
    "             color=\"purple\")\n",
    "\n",
    "plt.title(\"Sentiments from Tweets on Climate Change\")"
   ]
  },
  {
   "cell_type": "markdown",
   "metadata": {},
   "source": [
    "This plot displays a revised histogram of polarity values for tweets on covid19 pandemic. For this histogram, polarity values equal to zero have been removed, and a break has been added at zero, to better highlight the distribution of polarity values."
   ]
  },
  {
   "cell_type": "markdown",
   "metadata": {},
   "source": [
    "What does the histogram of the polarity values tell you about sentiments in the tweets gathered from the search “#Covid19+pandemic -filter:retweets”? **Are they more positive or negative?**"
   ]
  },
  {
   "cell_type": "markdown",
   "metadata": {},
   "source": [
    "# Get and Analyze Tweets Related to the George Floyd"
   ]
  },
  {
   "cell_type": "markdown",
   "metadata": {},
   "source": [
    "Explore a new topic,the 2020 Death of African American George Floyd in the hands of a police officer During the Corona Pandemic"
   ]
  },
  {
   "cell_type": "code",
   "execution_count": 42,
   "metadata": {},
   "outputs": [],
   "source": [
    "search_term = \"George+Floyd -filter:retweets\"\n",
    "\n",
    "tweets = tw.Cursor(api.search,\n",
    "                  q= search_term,\n",
    "                  lang='en',\n",
    "                  since='2020-5-28').items(1000)\n"
   ]
  },
  {
   "cell_type": "code",
   "execution_count": 43,
   "metadata": {},
   "outputs": [
    {
     "data": {
      "text/plain": [
       "[TextBlob(\"xhotpocketz dasludacris LedgeDC Texanpigbttm I know that youre punishing people that had nothing to do with\"),\n",
       " TextBlob(\"via NYTimes Trump is itching to use the Insurrection Act He could send the military into any city with a protes\"),\n",
       " TextBlob(\"Mayor Jacob Frey Justice for George Floyd Sign the Petition via UKChange\"),\n",
       " TextBlob(\"3 more cops charged in George Floyd death other officers murder charge upgraded Sen Klobuchar says\"),\n",
       " TextBlob(\"College rescinds recruits admission over George Floyd post\"),\n",
       " TextBlob(\"At least 9300 people have been arrested in protests across the country since George Floyds death according to an\"),\n",
       " TextBlob(\"Klobuchar 3 more cops charged in Floyd death\"),\n",
       " TextBlob(\"Im not physically comfortable kneeling at the best of times due to old injurybut also uncomfortable with white f\"),\n",
       " TextBlob(\"George FloydImprisoned for a theft in August 1998Arrested in 2002 for criminal trespassing and served 30 days\"),\n",
       " TextBlob(\"Chris Hayes on how police treat black Americans like colonial subjects via voxdotcom\"),\n",
       " TextBlob(\"scott19853 george floyd was a trigger but his death itself doesnt represent the whole blm but instead it just w\"),\n",
       " TextBlob(\"anchorsarecool Leaving this here Im raising money for Honor George Floyd Rebuilding Minneapolis Click to Do\"),\n",
       " TextBlob(\"To the lawyers on here does it make a conviction harder by increasing the charges to a higher level ex now 2nd d\"),\n",
       " TextBlob(\"For the love of God We literally watched him die in the video Sign this JusticeForGeorgeFloyd\"),\n",
       " TextBlob(\"Imagine white supremacists joining the protesters at night to burn buildings and vehicles inveigle looting and pre\"),\n",
       " TextBlob(\"I called for a seconddegree murder charge on Chauvin earlier this week if Klobuchar has it right thats about to\"),\n",
       " TextBlob(\"Mayor Jacob Frey Justice for George Floyd Sign the Petition via Change\"),\n",
       " TextBlob(\"SIGN THE PETITION\"),\n",
       " TextBlob(\"Boris Johnson on death of George Floyd Racist violence has no place in societyBoris Joh\"),\n",
       " TextBlob(\"AnandWrites They kneel like they kneeled on George Floyds neck Thats why they are kneeling It is NOT solidarity with protesters\")]"
      ]
     },
     "execution_count": 43,
     "metadata": {},
     "output_type": "execute_result"
    }
   ],
   "source": [
    "#Remove URLs and create textblob objectfor each tweet\n",
    "all_tweets_no_urls = [TextBlob(remove_url(tweet.text)) for tweet in tweets]\n",
    "\n",
    "all_tweets_no_urls[:20]"
   ]
  },
  {
   "cell_type": "markdown",
   "metadata": {},
   "source": [
    "Then, you can create the Pandas Dataframe of the polarity values and plot the histogram for the Camp Fire tweets, just like you did for the climate change data."
   ]
  },
  {
   "cell_type": "code",
   "execution_count": 46,
   "metadata": {},
   "outputs": [
    {
     "data": {
      "text/html": [
       "<div>\n",
       "<style scoped>\n",
       "    .dataframe tbody tr th:only-of-type {\n",
       "        vertical-align: middle;\n",
       "    }\n",
       "\n",
       "    .dataframe tbody tr th {\n",
       "        vertical-align: top;\n",
       "    }\n",
       "\n",
       "    .dataframe thead th {\n",
       "        text-align: right;\n",
       "    }\n",
       "</style>\n",
       "<table border=\"1\" class=\"dataframe\">\n",
       "  <thead>\n",
       "    <tr style=\"text-align: right;\">\n",
       "      <th></th>\n",
       "      <th>polarity</th>\n",
       "      <th>tweet</th>\n",
       "    </tr>\n",
       "  </thead>\n",
       "  <tbody>\n",
       "    <tr>\n",
       "      <th>1</th>\n",
       "      <td>-0.100000</td>\n",
       "      <td>via NYTimes Trump is itching to use the Insurr...</td>\n",
       "    </tr>\n",
       "    <tr>\n",
       "      <th>3</th>\n",
       "      <td>0.187500</td>\n",
       "      <td>3 more cops charged in George Floyd death othe...</td>\n",
       "    </tr>\n",
       "    <tr>\n",
       "      <th>5</th>\n",
       "      <td>-0.300000</td>\n",
       "      <td>At least 9300 people have been arrested in pro...</td>\n",
       "    </tr>\n",
       "    <tr>\n",
       "      <th>6</th>\n",
       "      <td>0.500000</td>\n",
       "      <td>Klobuchar 3 more cops charged in Floyd death</td>\n",
       "    </tr>\n",
       "    <tr>\n",
       "      <th>7</th>\n",
       "      <td>0.045833</td>\n",
       "      <td>Im not physically comfortable kneeling at the ...</td>\n",
       "    </tr>\n",
       "    <tr>\n",
       "      <th>8</th>\n",
       "      <td>-0.400000</td>\n",
       "      <td>George FloydImprisoned for a theft in August 1...</td>\n",
       "    </tr>\n",
       "    <tr>\n",
       "      <th>9</th>\n",
       "      <td>-0.166667</td>\n",
       "      <td>Chris Hayes on how police treat black American...</td>\n",
       "    </tr>\n",
       "    <tr>\n",
       "      <th>10</th>\n",
       "      <td>0.200000</td>\n",
       "      <td>scott19853 george floyd was a trigger but his ...</td>\n",
       "    </tr>\n",
       "    <tr>\n",
       "      <th>12</th>\n",
       "      <td>0.050000</td>\n",
       "      <td>To the lawyers on here does it make a convicti...</td>\n",
       "    </tr>\n",
       "    <tr>\n",
       "      <th>13</th>\n",
       "      <td>0.500000</td>\n",
       "      <td>For the love of God We literally watched him d...</td>\n",
       "    </tr>\n",
       "    <tr>\n",
       "      <th>15</th>\n",
       "      <td>0.142857</td>\n",
       "      <td>I called for a seconddegree murder charge on C...</td>\n",
       "    </tr>\n",
       "    <tr>\n",
       "      <th>24</th>\n",
       "      <td>0.500000</td>\n",
       "      <td>A George Floyd mural in Idlib Province Syria O...</td>\n",
       "    </tr>\n",
       "    <tr>\n",
       "      <th>25</th>\n",
       "      <td>0.500000</td>\n",
       "      <td>Klobuchar 3 more officers charged in Floyd death</td>\n",
       "    </tr>\n",
       "    <tr>\n",
       "      <th>26</th>\n",
       "      <td>0.250000</td>\n",
       "      <td>Heres a look at what happened during last nigh...</td>\n",
       "    </tr>\n",
       "    <tr>\n",
       "      <th>29</th>\n",
       "      <td>0.050000</td>\n",
       "      <td>If only she had done her job George Floyd migh...</td>\n",
       "    </tr>\n",
       "    <tr>\n",
       "      <th>30</th>\n",
       "      <td>-0.400000</td>\n",
       "      <td>seeing George Floyds daughter and her mum has ...</td>\n",
       "    </tr>\n",
       "    <tr>\n",
       "      <th>32</th>\n",
       "      <td>-0.237500</td>\n",
       "      <td>This was LONG overdue So sad how it took natio...</td>\n",
       "    </tr>\n",
       "    <tr>\n",
       "      <th>40</th>\n",
       "      <td>0.250000</td>\n",
       "      <td>3 more cops charged in George Floyd death amp ...</td>\n",
       "    </tr>\n",
       "    <tr>\n",
       "      <th>42</th>\n",
       "      <td>-0.125000</td>\n",
       "      <td>US Three other cops involved in the murder of ...</td>\n",
       "    </tr>\n",
       "    <tr>\n",
       "      <th>43</th>\n",
       "      <td>0.112500</td>\n",
       "      <td>Glad to hear that Attorney General Keith Ellis...</td>\n",
       "    </tr>\n",
       "  </tbody>\n",
       "</table>\n",
       "</div>"
      ],
      "text/plain": [
       "    polarity                                              tweet\n",
       "1  -0.100000  via NYTimes Trump is itching to use the Insurr...\n",
       "3   0.187500  3 more cops charged in George Floyd death othe...\n",
       "5  -0.300000  At least 9300 people have been arrested in pro...\n",
       "6   0.500000       Klobuchar 3 more cops charged in Floyd death\n",
       "7   0.045833  Im not physically comfortable kneeling at the ...\n",
       "8  -0.400000  George FloydImprisoned for a theft in August 1...\n",
       "9  -0.166667  Chris Hayes on how police treat black American...\n",
       "10  0.200000  scott19853 george floyd was a trigger but his ...\n",
       "12  0.050000  To the lawyers on here does it make a convicti...\n",
       "13  0.500000  For the love of God We literally watched him d...\n",
       "15  0.142857  I called for a seconddegree murder charge on C...\n",
       "24  0.500000  A George Floyd mural in Idlib Province Syria O...\n",
       "25  0.500000   Klobuchar 3 more officers charged in Floyd death\n",
       "26  0.250000  Heres a look at what happened during last nigh...\n",
       "29  0.050000  If only she had done her job George Floyd migh...\n",
       "30 -0.400000  seeing George Floyds daughter and her mum has ...\n",
       "32 -0.237500  This was LONG overdue So sad how it took natio...\n",
       "40  0.250000  3 more cops charged in George Floyd death amp ...\n",
       "42 -0.125000  US Three other cops involved in the murder of ...\n",
       "43  0.112500  Glad to hear that Attorney General Keith Ellis..."
      ]
     },
     "execution_count": 46,
     "metadata": {},
     "output_type": "execute_result"
    }
   ],
   "source": [
    "# Calculate polarity of tweets\n",
    "George_Floyd_values = [[tweet.sentiment.polarity,str(tweet)] for tweet in all_tweets_no_urls]\n",
    "\n",
    "# Create dataframe containing polarity values and tweet text\n",
    "GF_sent_df = pd.DataFrame(George_Floyd_values, columns=[\"polarity\", \"tweet\"])\n",
    "GF_sent_df = GF_sent_df[GF_sent_df.polarity != 0]\n",
    "\n",
    "GF_sent_df.head(20)\n"
   ]
  },
  {
   "cell_type": "code",
   "execution_count": 48,
   "metadata": {},
   "outputs": [
    {
     "data": {
      "text/plain": [
       "Text(0.5, 1.0, \"Sentiments from Tweets on George Floyd's Death\")"
      ]
     },
     "execution_count": 48,
     "metadata": {},
     "output_type": "execute_result"
    },
    {
     "data": {
      "image/png": "[encoded data removed]",
      "text/plain": [
       "<Figure size 576x432 with 1 Axes>"
      ]
     },
     "metadata": {},
     "output_type": "display_data"
    }
   ],
   "source": [
    "fig, ax = plt.subplots(figsize=(8, 6))\n",
    "\n",
    "GF_sent_df.hist(bins=[-1, -0.75, -0.5, -0.25, 0, 0.25, 0.5, 0.75, 1],\n",
    "        ax=ax, color=\"purple\")\n",
    "\n",
    "plt.title(\"Sentiments from Tweets on George Floyd's Death\")"
   ]
  },
  {
   "cell_type": "markdown",
   "metadata": {},
   "source": [
    "This plot displays a histogram of polarity values for tweets on the Death of George Floyd. For this histogram, polarity values equal to zero have been removed and a break has been added at zero, to better highlight the distribution of polarity values."
   ]
  },
  {
   "cell_type": "markdown",
   "metadata": {},
   "source": [
    "**Based on this histogram, would you say that the sentiments from George Floys's Death tweets are more positive or negative?**"
   ]
  },
  {
   "cell_type": "code",
   "execution_count": null,
   "metadata": {},
   "outputs": [],
   "source": []
  }
 ],
 "metadata": {
  "kernelspec": {
   "display_name": "Python 3",
   "language": "python",
   "name": "python3"
  },
  "language_info": {
   "codemirror_mode": {
    "name": "ipython",
    "version": 3
   },
   "file_extension": ".py",
   "mimetype": "text/x-python",
   "name": "python",
   "nbconvert_exporter": "python",
   "pygments_lexer": "ipython3",
   "version": "3.7.3"
  }
 },
 "nbformat": 4,
 "nbformat_minor": 2
}
